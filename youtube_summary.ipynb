{
 "cells": [
  {
   "cell_type": "code",
   "execution_count": 5,
   "metadata": {},
   "outputs": [],
   "source": [
    "from langchain.document_loaders import YoutubeLoader\n",
    "from langchain.chat_models import AzureChatOpenAI\n",
    "from langchain.chains.summarize import load_summarize_chain\n",
    "from langchain.text_splitter import RecursiveCharacterTextSplitter\n",
    "import os"
   ]
  },
  {
   "cell_type": "code",
   "execution_count": 2,
   "metadata": {},
   "outputs": [],
   "source": [
    "from pytube import Playlist\n",
    "\n",
    "playlist_id = \"PLj6h78yzYM2Mwt-aVXI6ItZX5s9izAp0F\"\n",
    "playlist_link = \"https://www.youtube.com/playlist?list=\" + playlist_id\n",
    "youtube_url_list = Playlist(playlist_link).video_urls"
   ]
  },
  {
   "cell_type": "code",
   "execution_count": 6,
   "metadata": {},
   "outputs": [],
   "source": [
    "youtube_url_list = [\"https://www.youtube.com/watch?v=C_78DM8fG6E\"]"
   ]
  },
  {
   "cell_type": "code",
   "execution_count": 7,
   "metadata": {},
   "outputs": [
    {
     "name": "stdout",
     "output_type": "stream",
     "text": [
      "OpenAI, an organization focused on artificial intelligence (AI), has made significant advancements in AI technology, including the development of the DALL-E model and ChatGPT. These tools can generate detailed images and text in response to user requests, and can integrate with other applications to perform tasks without explicit instructions. The organization emphasizes the importance of high-quality feedback in training AI and improving its reliability. OpenAI also highlights the potential of AI in data analysis and decision-making processes. Despite the potential risks of AI, the organization advocates for a transparent development process and public participation in shaping AI technology. Greg Brockman, from OpenAI, compares the development of AI technology to raising a child with potential superpowers, emphasizing the collective responsibility to guide its development.\n",
      "\n"
     ]
    }
   ],
   "source": [
    "texts = []\n",
    "\n",
    "text_splitter = RecursiveCharacterTextSplitter(chunk_size=2000, chunk_overlap=0)\n",
    "\n",
    "for url in youtube_url_list:\n",
    "    try:\n",
    "        loader = YoutubeLoader.from_youtube_url(url, add_video_info=False)\n",
    "    except Exception as e:\n",
    "        pass\n",
    "    result = loader.load()\n",
    "\n",
    "    texts.extend(text_splitter.split_documents(result))\n",
    "\n",
    "llm = AzureChatOpenAI(\n",
    "    temperature=0, \n",
    "    openai_api_base=os.environ[\"OPENAI_API_BASE\"],\n",
    "    openai_api_version=\"2023-08-01-preview\",\n",
    "    deployment_name=\"gpt-4-0613\",\n",
    "    openai_api_key=os.environ[\"OPENAI_API_KEY\"],\n",
    "    openai_api_type=\"azure\",\n",
    "    )\n",
    "\n",
    "chain = load_summarize_chain(llm, chain_type=\"map_reduce\", verbose=False)\n",
    "\n",
    "print(chain.run(texts))"
   ]
  }
 ],
 "metadata": {
  "kernelspec": {
   "display_name": "Python 3",
   "language": "python",
   "name": "python3"
  },
  "language_info": {
   "codemirror_mode": {
    "name": "ipython",
    "version": 3
   },
   "file_extension": ".py",
   "mimetype": "text/x-python",
   "name": "python",
   "nbconvert_exporter": "python",
   "pygments_lexer": "ipython3",
   "version": "3.11.5"
  },
  "orig_nbformat": 4
 },
 "nbformat": 4,
 "nbformat_minor": 2
}

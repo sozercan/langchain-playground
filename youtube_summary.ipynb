{
 "cells": [
  {
   "cell_type": "code",
   "execution_count": 7,
   "metadata": {},
   "outputs": [],
   "source": [
    "from pytube import Playlist\n",
    "from langchain.document_loaders import YoutubeLoader\n",
    "from langchain.llms import AzureOpenAI\n",
    "from langchain.chains.summarize import load_summarize_chain\n",
    "from langchain.text_splitter import RecursiveCharacterTextSplitter"
   ]
  },
  {
   "cell_type": "code",
   "execution_count": 2,
   "metadata": {},
   "outputs": [],
   "source": [
    "playlist_id = \"PLj6h78yzYM2Mwt-aVXI6ItZX5s9izAp0F\"\n",
    "playlist_link = \"https://www.youtube.com/playlist?list=\" + playlist_id\n",
    "youtube_url_list = Playlist(playlist_link).video_urls"
   ]
  },
  {
   "cell_type": "code",
   "execution_count": 8,
   "metadata": {},
   "outputs": [],
   "source": [
    "youtube_url_list = [\"https://www.youtube.com/watch?v=C_78DM8fG6E\"]"
   ]
  },
  {
   "cell_type": "code",
   "execution_count": null,
   "metadata": {},
   "outputs": [],
   "source": [
    "texts = []\n",
    "\n",
    "text_splitter = RecursiveCharacterTextSplitter(chunk_size=2000, chunk_overlap=0)\n",
    "\n",
    "for url in youtube_url_list:\n",
    "    try:\n",
    "        loader = YoutubeLoader.from_youtube_url(url, add_video_info=False)\n",
    "    except Exception as e:\n",
    "        pass\n",
    "    result = loader.load()\n",
    "\n",
    "    texts.extend(text_splitter.split_documents(result))\n",
    "\n",
    "llm = AzureOpenAI(temperature=0, deployment_name=\"gpt-35-turbo-0301\")\n",
    "\n",
    "chain = load_summarize_chain(llm, chain_type=\"map_reduce\", verbose=False)\n",
    "\n",
    "print(chain.run(texts))"
   ]
  }
 ],
 "metadata": {
  "kernelspec": {
   "display_name": "Python 3",
   "language": "python",
   "name": "python3"
  },
  "language_info": {
   "codemirror_mode": {
    "name": "ipython",
    "version": 3
   },
   "file_extension": ".py",
   "mimetype": "text/x-python",
   "name": "python",
   "nbconvert_exporter": "python",
   "pygments_lexer": "ipython3",
   "version": "3.11.3"
  },
  "orig_nbformat": 4
 },
 "nbformat": 4,
 "nbformat_minor": 2
}

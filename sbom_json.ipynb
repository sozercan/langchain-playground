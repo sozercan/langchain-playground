{
 "cells": [
  {
   "cell_type": "code",
   "execution_count": null,
   "metadata": {},
   "outputs": [],
   "source": [
    "import os\n",
    "import yaml\n",
    "import requests\n",
    "\n",
    "from langchain.agents import (\n",
    "    create_json_agent,\n",
    "    AgentExecutor\n",
    ")\n",
    "from langchain.agents.agent_toolkits import JsonToolkit\n",
    "from langchain.chains import LLMChain\n",
    "from langchain.llms.openai import AzureOpenAI\n",
    "from langchain.requests import TextRequestsWrapper\n",
    "from langchain.tools.json.tool import JsonSpec\n",
    "\n",
    "url = \"https://gist.githubusercontent.com/sozercan/962756396fa3bb200fea00995bbf0738/raw/ca8a28e071916e39b3302d04ffa75b03de5c257f/kube-proxy.json\" \n",
    "\n",
    "data = requests.get(url).json()\n",
    "\n",
    "json_spec = JsonSpec(dict_=data)\n",
    "json_toolkit = JsonToolkit(spec=json_spec)\n",
    "\n",
    "llm = AzureOpenAI(temperature=0, deployment_name=\"text-davinci-003\")\n",
    "\n",
    "json_agent_executor = create_json_agent(\n",
    "    llm=llm,\n",
    "    toolkit=json_toolkit,\n",
    "    verbose=True\n",
    ")"
   ]
  },
  {
   "cell_type": "code",
   "execution_count": null,
   "metadata": {},
   "outputs": [],
   "source": [
    "json_agent_executor.run(\"list all the packages installed?\")\n"
   ]
  },
  {
   "cell_type": "code",
   "execution_count": null,
   "metadata": {},
   "outputs": [],
   "source": [
    "json_agent_executor.run(\"What is the version of coreutils?\")\n"
   ]
  }
 ],
 "metadata": {
  "kernelspec": {
   "display_name": "Python 3",
   "language": "python",
   "name": "python3"
  },
  "language_info": {
   "codemirror_mode": {
    "name": "ipython",
    "version": 3
   },
   "file_extension": ".py",
   "mimetype": "text/x-python",
   "name": "python",
   "nbconvert_exporter": "python",
   "pygments_lexer": "ipython3",
   "version": "3.11.3"
  },
  "orig_nbformat": 4
 },
 "nbformat": 4,
 "nbformat_minor": 2
}

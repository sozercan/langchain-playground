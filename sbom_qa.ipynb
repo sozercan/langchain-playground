{
 "cells": [
  {
   "cell_type": "code",
   "execution_count": 1,
   "metadata": {},
   "outputs": [],
   "source": [
    "from langchain.document_loaders import TextLoader\n",
    "from langchain.text_splitter import CharacterTextSplitter\n",
    "from langchain.chains import RetrievalQA"
   ]
  },
  {
   "cell_type": "code",
   "execution_count": 3,
   "metadata": {},
   "outputs": [
    {
     "name": "stderr",
     "output_type": "stream",
     "text": [
      "Using embedded DuckDB without persistence: data will be transient\n"
     ]
    }
   ],
   "source": [
    "from langchain.document_loaders import WebBaseLoader\n",
    "from langchain.chains import RetrievalQAWithSourcesChain\n",
    "from langchain.text_splitter import RecursiveCharacterTextSplitter\n",
    "from langchain.llms import AzureOpenAI\n",
    "from langchain.embeddings.openai import OpenAIEmbeddings\n",
    "from langchain.vectorstores import Chroma\n",
    "\n",
    "url = \"https://gist.githubusercontent.com/sozercan/962756396fa3bb200fea00995bbf0738/raw/ca8a28e071916e39b3302d04ffa75b03de5c257f/kube-proxy.json\" \n",
    "\n",
    "loader = WebBaseLoader(url)\n",
    "documents = loader.load()\n",
    "\n",
    "text_splitter = RecursiveCharacterTextSplitter(chunk_size=8000, chunk_overlap=0)\n",
    "\n",
    "texts = text_splitter.split_documents(documents)\n",
    "\n",
    "llm = AzureOpenAI(temperature=0, deployment_name=\"text-davinci-003\")\n",
    "\n",
    "# select which embeddings we want to use\n",
    "embeddings = OpenAIEmbeddings(chunk_size=1)\n",
    "\n",
    "# create the vectorestore to use as the index\n",
    "db = Chroma.from_documents(texts, embeddings)\n",
    "\n",
    "# expose this index in a retriever interface\n",
    "retriever = db.as_retriever(search_type=\"similarity\", search_kwargs={\"k\":1})\n",
    "\n",
    "chain = RetrievalQAWithSourcesChain.from_chain_type(llm, chain_type=\"map_reduce\", retriever=db.as_retriever())\n",
    "#reduce_k_below_max_tokens=True, max_tokens_limit=4097"
   ]
  },
  {
   "cell_type": "code",
   "execution_count": 6,
   "metadata": {},
   "outputs": [
    {
     "data": {
      "text/plain": [
       "{'answer': ' The installed packages are: libipset13, libkmod2, liblzma5, libmnl0, libnetfilter-conntrack3, libnfnetlink0, libnftnl11, libpcre3, libssl1.1, libxtables12, lsb-base, netbase, openssl, sigs.k8s.io/apiserver-network-proxy/konnectivity-client, sigs.k8s.io/json, sigs.k8s.io/structured-merge-diff/v4, kmod, libc6, libip4tc2, libip6tc2, iptables, k8s.io/klog/v2, k8s.io/kube-openapi, k8s.io/kubernetes, k8s.io/release/images/build/go-runner, k8s.io/utils.\\n',\n",
       " 'sources': 'https://gist.githubusercontent.com/sozercan/962756396fa3bb200fea00995bbf0738/raw/ca8a28'}"
      ]
     },
     "execution_count": 6,
     "metadata": {},
     "output_type": "execute_result"
    }
   ],
   "source": [
    "packagesQuery = \"list all the installed packages\"\n",
    "\n",
    "chain({\"question\": packagesQuery}, return_only_outputs=True)"
   ]
  },
  {
   "cell_type": "code",
   "execution_count": 5,
   "metadata": {},
   "outputs": [
    {
     "data": {
      "text/plain": [
       "{'answer': ' The licenses of the packages installed are GPL-2.0-only, GPL-2.0-or-later, GPL-3.0-only, LGPL-2.0-only, LGPL-2.1-only, LGPL-2.1+, FSFAP, FSFUL, FSFULLR, GPL-3.0-or-later, BSD-3-Clause, and NONE.\\n',\n",
       " 'sources': 'https://gist.githubusercontent.com/sozercan/962756396fa3bb200fea00995bbf0738/raw/ca8a28e071916e39b3302d04ffa75b03de5c257f/kube-proxy.json'}"
      ]
     },
     "execution_count": 5,
     "metadata": {},
     "output_type": "execute_result"
    }
   ],
   "source": [
    "licensesQuery = \"What are the licenses of packages installed?\"\n",
    "\n",
    "chain({\"question\": licensesQuery}, return_only_outputs=True)"
   ]
  },
  {
   "cell_type": "code",
   "execution_count": 7,
   "metadata": {},
   "outputs": [
    {
     "data": {
      "text/plain": [
       "{'answer': ' The golang.org/x/net version is v0.0.0-20180826012351-8a410e7b638d.\\n',\n",
       " 'sources': 'https://gist.githubusercontent.com/sozercan/962756396fa3bb200fea00995bbf0738/raw/ca8a28e071916e39b3302d04ffa75b03de5c257f/kube-proxy.json'}"
      ]
     },
     "execution_count": 7,
     "metadata": {},
     "output_type": "execute_result"
    }
   ],
   "source": [
    "licensesQuery = \"What is the golang.org/x/net version?\"\n",
    "\n",
    "chain({\"question\": licensesQuery}, return_only_outputs=True)"
   ]
  }
 ],
 "metadata": {
  "kernelspec": {
   "display_name": "Python 3",
   "language": "python",
   "name": "python3"
  },
  "language_info": {
   "codemirror_mode": {
    "name": "ipython",
    "version": 3
   },
   "file_extension": ".py",
   "mimetype": "text/x-python",
   "name": "python",
   "nbconvert_exporter": "python",
   "pygments_lexer": "ipython3",
   "version": "3.11.3"
  },
  "orig_nbformat": 4
 },
 "nbformat": 4,
 "nbformat_minor": 2
}

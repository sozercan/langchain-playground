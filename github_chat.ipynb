{
 "cells": [
  {
   "cell_type": "code",
   "execution_count": 2,
   "metadata": {},
   "outputs": [],
   "source": [
    "import os\n",
    "import getpass\n",
    "\n",
    "from langchain.embeddings.openai import OpenAIEmbeddings\n",
    "from langchain.vectorstores import DeepLake\n",
    "\n",
    "os.environ['ACTIVELOOP_TOKEN'] = getpass.getpass('Activeloop Token:')"
   ]
  },
  {
   "cell_type": "code",
   "execution_count": 3,
   "metadata": {},
   "outputs": [],
   "source": [
    "embeddings = OpenAIEmbeddings(chunk_size=1, openai_api_key=os.environ['OPENAI_API_KEY'])"
   ]
  },
  {
   "cell_type": "code",
   "execution_count": 4,
   "metadata": {},
   "outputs": [],
   "source": [
    "import os\n",
    "from langchain.document_loaders import TextLoader\n",
    "\n",
    "root_dir = '/home/sozercan/projects/gatekeeper'\n",
    "docs = []\n",
    "for dirpath, dirnames, filenames in os.walk(root_dir):\n",
    "    for file in filenames:\n",
    "        try: \n",
    "            loader = TextLoader(os.path.join(dirpath, file), encoding='utf-8')\n",
    "            docs.extend(loader.load_and_split())\n",
    "        except Exception as e: \n",
    "            pass"
   ]
  },
  {
   "cell_type": "code",
   "execution_count": null,
   "metadata": {},
   "outputs": [],
   "source": [
    "from langchain.text_splitter import CharacterTextSplitter\n",
    "\n",
    "text_splitter = CharacterTextSplitter(chunk_size=1000, chunk_overlap=0)\n",
    "texts = text_splitter.split_documents(docs)"
   ]
  },
  {
   "cell_type": "code",
   "execution_count": null,
   "metadata": {},
   "outputs": [],
   "source": [
    "username = \"sozercan\" # replace with your username from app.activeloop.ai\n",
    "db = DeepLake(dataset_path=f\"hub://{username}/gatekeeper\", embedding_function=embeddings) #dataset would be publicly available\n",
    "db.add_documents(texts)"
   ]
  },
  {
   "cell_type": "code",
   "execution_count": null,
   "metadata": {},
   "outputs": [],
   "source": [
    "db = DeepLake(dataset_path=\"hub://sozercan/gatekeeper\", read_only=True, embedding_function=embeddings)"
   ]
  },
  {
   "cell_type": "code",
   "execution_count": 10,
   "metadata": {},
   "outputs": [],
   "source": [
    "retriever = db.as_retriever()\n",
    "retriever.search_kwargs['distance_metric'] = 'cos'\n",
    "retriever.search_kwargs['fetch_k'] = 100\n",
    "retriever.search_kwargs['maximal_marginal_relevance'] = True\n",
    "retriever.search_kwargs['k'] = 10"
   ]
  },
  {
   "cell_type": "code",
   "execution_count": 11,
   "metadata": {},
   "outputs": [],
   "source": [
    "def filter(x):\n",
    "    # filter based on source code\n",
    "    if 'com.google' in x['text'].data()['value']:\n",
    "        return False\n",
    "    \n",
    "    # filter based on path e.g. extension\n",
    "    metadata =  x['metadata'].data()['value']\n",
    "    return 'scala' in metadata['source'] or 'py' in metadata['source']\n",
    "\n",
    "### turn on below for custom filtering\n",
    "# retriever.search_kwargs['filter'] = filter"
   ]
  },
  {
   "cell_type": "code",
   "execution_count": 12,
   "metadata": {},
   "outputs": [],
   "source": [
    "from langchain.chat_models import AzureChatOpenAI\n",
    "from langchain.chains import ConversationalRetrievalChain\n",
    "\n",
    "model = AzureChatOpenAI(\n",
    "    openai_api_base=os.environ[\"OPENAI_API_BASE\"],\n",
    "    openai_api_version=\"2023-03-15-preview\",\n",
    "    deployment_name=\"gpt-4-0314\",\n",
    "    openai_api_key=os.environ[\"OPENAI_API_KEY\"],\n",
    "    openai_api_type = \"azure\",\n",
    ")\n",
    "qa = ConversationalRetrievalChain.from_llm(model,retriever=retriever)"
   ]
  },
  {
   "cell_type": "code",
   "execution_count": 15,
   "metadata": {},
   "outputs": [
    {
     "name": "stdout",
     "output_type": "stream",
     "text": [
      "-> **Question**: what is the purpose of gatekeeper? \n",
      "\n",
      "**Answer**: The purpose of Gatekeeper is to provide a policy-based control system for Kubernetes clusters. It allows administrators to enforce and manage policies, ensuring that only compliant resources are created or modified within the cluster. Gatekeeper strengthens compliance efforts and prevents bad state from slowing down the organization by detecting and rejecting non-compliant commits to an infrastructure-as-code system's source-of-truth. \n",
      "\n",
      "-> **Question**: how do i install gatekeeper? \n",
      "\n",
      "**Answer**: To install Gatekeeper on your Kubernetes cluster, follow these steps:\n",
      "\n",
      "1. Ensure you meet the prerequisites:\n",
      "\n",
      "   - Minimum Kubernetes version: Gatekeeper requires resources introduced in Kubernetes v1.16.\n",
      "   - RBAC permissions: Make sure you have cluster admin permissions by running the following command:\n",
      "\n",
      "     ```sh\n",
      "     kubectl create clusterrolebinding cluster-admin-binding \\\n",
      "       --clusterrole cluster-admin \\\n",
      "       --user <YOUR USER NAME>\n",
      "     ```\n",
      "\n",
      "2. Deploy a release using a prebuilt image:\n",
      "\n",
      "   If you want to deploy a released version of Gatekeeper in your cluster with a prebuilt image, run the following command:\n",
      "\n",
      "   ```sh\n",
      "   kubectl apply -f https://raw.githubusercontent.com/open-policy-agent/gatekeeper/master/deploy/gatekeeper.yaml\n",
      "   ```\n",
      "\n",
      "   Note: Before running the script, ensure you've looked at the prerequisite and Gatekeeper installation steps.\n",
      "\n",
      "For more information, refer to the Gatekeeper [installation documentation](https://open-policy-agent.github.io/gatekeeper/website/docs/install). \n",
      "\n",
      "-> **Question**: how does audit work? \n",
      "\n",
      "**Answer**: The audit feature in Gatekeeper allows administrators to see what resources are currently violating any given policy. Gatekeeper periodically scans the cluster resources and evaluates them against the defined policies. If any resources are found to be non-compliant, the violations are reported in the status field of the corresponding constraint resource. This helps administrators identify and rectify policy violations in their Kubernetes clusters, ensuring compliance and security. \n",
      "\n",
      "-> **Question**: how do i write a constraint? \n",
      "\n",
      "**Answer**: To write a constraint for Gatekeeper, you first need to create a `ConstraintTemplate`. A `ConstraintTemplate` describes the Rego policy that enforces the constraint and the schema of the constraint. The schema allows an admin to fine-tune the behavior of a constraint, similar to function arguments.\n",
      "\n",
      "Here's an example constraint template that requires all labels described by the constraint to be present:\n",
      "\n",
      "```yaml\n",
      "apiVersion: templates.gatekeeper.sh/v1beta1\n",
      "kind: ConstraintTemplate\n",
      "metadata:\n",
      "  name: k8srequiredlabels\n",
      "spec:\n",
      "  crd:\n",
      "    spec:\n",
      "      names:\n",
      "        kind: K8sRequiredLabels\n",
      "      validation:\n",
      "        openAPIV3Schema:\n",
      "          properties:\n",
      "            labels:\n",
      "              type: array\n",
      "              items:\n",
      "                type: string\n",
      "  targets:\n",
      "    - target: admission.k8s.gatekeeper.sh\n",
      "      rego: |\n",
      "        package k8srequiredlabels\n",
      "\n",
      "        violation[{\"msg\": msg, \"details\": {\"missing_labels\": missing}}] {\n",
      "          provided := {label | input.review.object.metadata.labels[label]}\n",
      "          required := {label | label := input.parameters.labels[_]}\n",
      "          missing := required - provided\n",
      "          count(missing) > 0\n",
      "          msg := sprintf(\"you must provide labels: %v\", [missing])\n",
      "        }\n",
      "```\n",
      "\n",
      "After creating the `ConstraintTemplate`, you can define a constraint that uses this template. An example constraint that enforces the presence of the `gatekeeper` label on all namespaces could look like this:\n",
      "\n",
      "```yaml\n",
      "apiVersion: constraints.gatekeeper.sh/v1beta1\n",
      "kind: K8sRequiredLabels\n",
      "metadata:\n",
      "  name: ns-must-have-gk\n",
      "spec:\n",
      "  match:\n",
      "    kinds:\n",
      "      - apiGroups: [\"\"]\n",
      "        kinds: [\"Namespace\"]\n",
      "  parameters:\n",
      "    labels: [\"gatekeeper\"]\n",
      "```\n",
      "\n",
      "This constraint specifies that all namespaces must have the `gatekeeper` label.\n",
      "\n",
      "For more constraint templates, sample constraints, and sample mutation policies, you can refer to the [Gatekeeper policy library](https://open-policy-agent.github.io/gatekeeper-library/website/). \n",
      "\n",
      "-> **Question**: how does external data work? \n",
      "\n",
      "**Answer**: Gatekeeper handles external data using a provider-based model. This model allows Gatekeeper to interface with various external data sources, such as image registries, by creating a common interface for extending Gatekeeper with external data.\n",
      "\n",
      "Key benefits of this external data solution include:\n",
      "\n",
      "1. Addressing security concerns by restricting which hosts a user can access and providing an interface for making requests, allowing Gatekeeper to handle things like escaping strings better.\n",
      "2. Addressing common patterns with a single provider, such as image tag-to-digest mutation, which can be used in multiple scenarios like validating image signatures or vulnerabilities.\n",
      "3. Creating a common interface for extending Gatekeeper with external data, allowing for separation of concerns between accessing external data and policy evaluation. This makes it easier for developers and consumers of data sources to author constraint templates and data sources, and manage changes.\n",
      "4. Providing performance benefits by allowing Gatekeeper to directly control caching and cache-related values, increasing the likelihood of cache hits. For mutation, batch requests can be done via lazy evaluation, and for validation, batching is made easier via the `external_data` Rego function design.\n",
      "\n",
      "Please note that this feature is still in alpha stage and available from Gatekeeper version v3.7+. The final form can still change, and feedback is welcome. Mutation support with external data starts from v3.8.0. \n",
      "\n",
      "-> **Question**: what does auditFromCache do? \n",
      "\n",
      "**Answer**: The purpose of the `auditFromCache` feature in Gatekeeper is to allow the audit process to rely on the audit informer cache instead of requesting each resource directly from the Kubernetes API during each audit cycle. This can help improve performance and reduce the load on the Kubernetes API.\n",
      "\n",
      "When the `--audit-from-cache=true` flag is used, it requires replication of Kubernetes resources into the audit cache before they can be evaluated against the enforced policies. More information on replicating data can be found in the [Replicating Data](sync.md) section. \n",
      "\n"
     ]
    }
   ],
   "source": [
    "questions = [\n",
    "    \"what is the purpose of gatekeeper?\",\n",
    "    \"how do i install gatekeeper?\",\n",
    "    \"how does audit work?\",\n",
    "    \"how do i write a constraint?\",\n",
    "    \"how does external data work?\",\n",
    "    \"what does auditFromCache do?\",\n",
    "] \n",
    "chat_history = []\n",
    "\n",
    "for question in questions:  \n",
    "    result = qa({\"question\": question, \"chat_history\": chat_history})\n",
    "    chat_history.append((question, result['answer']))\n",
    "    print(f\"-> **Question**: {question} \\n\")\n",
    "    print(f\"**Answer**: {result['answer']} \\n\")"
   ]
  }
 ],
 "metadata": {
  "kernelspec": {
   "display_name": "Python 3",
   "language": "python",
   "name": "python3"
  },
  "language_info": {
   "codemirror_mode": {
    "name": "ipython",
    "version": 3
   },
   "file_extension": ".py",
   "mimetype": "text/x-python",
   "name": "python",
   "nbconvert_exporter": "python",
   "pygments_lexer": "ipython3",
   "version": "3.11.3"
  },
  "orig_nbformat": 4
 },
 "nbformat": 4,
 "nbformat_minor": 2
}
